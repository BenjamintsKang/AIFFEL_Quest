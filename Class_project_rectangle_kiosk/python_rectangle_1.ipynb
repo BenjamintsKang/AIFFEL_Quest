{
 "cells": [
  {
   "cell_type": "code",
   "execution_count": 1,
   "id": "d0599afd",
   "metadata": {},
   "outputs": [],
   "source": [
    "class Square:\n",
    "    def __init__(self):  # 생성자__init__의 매개변수의 첫번째는 self여야 합니다. \n",
    "        self.square = int(input('넓이를 구하고 싶은 사각형의 숫자를 써주세요.\\n 1.직사각형 2.평행사변형 3.사다리꼴 \\n >>>'))  # 입력값을 int로 묶어야 합니다.\n",
    "\n",
    "        if self.square == 1:\n",
    "            print('직사각형 함수는 rect()입니다.')  # Square 클래스에 rect() 메서드를 추가합니다. \n",
    "\n",
    "        elif self.square == 2:\n",
    "            print('평행사변형 함수는 par()입니다.')  # Square 클래스에 par() 메서드를 추가합니다.  \n",
    "        \n",
    "        elif self.square == 3:\n",
    "            print('사다리꼴 함수는 trape()입니다.')  # Square 클래스에 trape() 메서드를 추가합니다. \n",
    "        \n",
    "        else:\n",
    "            print('1, 2, 3 중에서 다시 입력해주세요')"
   ]
  },
  {
   "cell_type": "code",
   "execution_count": 2,
   "id": "be2c3965",
   "metadata": {},
   "outputs": [
    {
     "name": "stdout",
     "output_type": "stream",
     "text": [
      "두\n"
     ]
    }
   ],
   "source": [
    "# split()함수 예시 2\n",
    "a, b, c = '모.두.연'.split('.')\n",
    "print(b)"
   ]
  },
  {
   "cell_type": "code",
   "execution_count": 5,
   "id": "729d5962",
   "metadata": {},
   "outputs": [
    {
     "name": "stdout",
     "output_type": "stream",
     "text": [
      "3 4\n"
     ]
    }
   ],
   "source": [
    "# 3,4를 입력해보세요.\n",
    "가로, 세로 = input('가로, 세로를 입력하세요. 예시 : 가로,세로').split(',')\n",
    "print(가로, 세로)"
   ]
  },
  {
   "cell_type": "code",
   "execution_count": 6,
   "id": "88a25e1c",
   "metadata": {},
   "outputs": [
    {
     "data": {
      "text/plain": [
       "str"
      ]
     },
     "execution_count": 6,
     "metadata": {},
     "output_type": "execute_result"
    }
   ],
   "source": [
    "type(가로)"
   ]
  },
  {
   "cell_type": "code",
   "execution_count": 7,
   "id": "d09fed58",
   "metadata": {},
   "outputs": [
    {
     "name": "stdout",
     "output_type": "stream",
     "text": [
      "['모', '두', '연']\n"
     ]
    }
   ],
   "source": [
    "# split()의 결과는 리스트\n",
    "a = '모.두.연'.split('.')\n",
    "print(a)"
   ]
  },
  {
   "cell_type": "code",
   "execution_count": 8,
   "id": "01273141",
   "metadata": {},
   "outputs": [
    {
     "name": "stdout",
     "output_type": "stream",
     "text": [
      "3 <class 'int'>\n"
     ]
    }
   ],
   "source": [
    "# 3,4를 입력해보세요\n",
    "가로, 세로 = map(int,input('가로, 세로를 입력하세요. 예시 : 가로,세로').split(','))\n",
    "print(가로, type(가로))"
   ]
  },
  {
   "cell_type": "code",
   "execution_count": 13,
   "id": "e891307a",
   "metadata": {},
   "outputs": [],
   "source": [
    "def rect(self):  # 직사각형의 넓이를 구하는 메서드\n",
    "    width, vertical = map(int, input('가로, 세로를 입력하세요. 예시 : 가로,세로\\n >>>').split(','))  #가로, 세로를 입력받는 코드\n",
    "    area = width * vertical # [[YOUR CODE]]  # 넓이를 구하는 부분\n",
    "    result = '직사각형의 넓이는 : ' + str(area) # [[YOUR CODE]]\n",
    "    return result # [[YOUR CODE]]"
   ]
  },
  {
   "cell_type": "code",
   "execution_count": 14,
   "id": "4b66ab0b",
   "metadata": {},
   "outputs": [],
   "source": [
    "# 클래스 만들기 \n",
    "class Square:\n",
    "    def __init__(self):\n",
    "        self.square = int(input('넓이를 구하고 싶은 사각형의 숫자를 써주세요.\\n 1.직사각형 2.평행사변형 3.사다리꼴 \\n >>>'))\n",
    "\n",
    "        if self.square == 1:\n",
    "            print('직사각형 함수는 rect()입니다.')\n",
    "\n",
    "        elif self.square == 2:\n",
    "            print('평행사변형 함수는 par()입니다.')\n",
    "        \n",
    "        elif self.square == 3:\n",
    "            print('사다리꼴 함수는 trape()입니다.')\n",
    "        \n",
    "        else:\n",
    "            print('1, 2, 3 중에서 다시 입력해주세요')\n",
    "\n",
    "\n",
    "    def rect(self):\n",
    "        width, vertical = map(int, input('가로, 세로를 입력하세요. 예시 : 가로,세로\\n >>>').split(','))\n",
    "        area = width * vertical\n",
    "        result = '직사각형의 넓이는 : ' + str(area) # str? tbc\n",
    "        return result"
   ]
  },
  {
   "cell_type": "code",
   "execution_count": 15,
   "id": "1f082792",
   "metadata": {},
   "outputs": [
    {
     "name": "stdout",
     "output_type": "stream",
     "text": [
      "직사각형 함수는 rect()입니다.\n"
     ]
    }
   ],
   "source": [
    "# 객체 만들기 \n",
    "a = Square()  # 1 입력하기"
   ]
  },
  {
   "cell_type": "code",
   "execution_count": 16,
   "id": "a5389363",
   "metadata": {},
   "outputs": [
    {
     "data": {
      "text/plain": [
       "'직사각형의 넓이는 : 12'"
      ]
     },
     "execution_count": 16,
     "metadata": {},
     "output_type": "execute_result"
    }
   ],
   "source": [
    "# rect() 메서드 써보기\n",
    "a.rect()"
   ]
  },
  {
   "cell_type": "code",
   "execution_count": 19,
   "id": "70388b8a",
   "metadata": {},
   "outputs": [],
   "source": [
    "# 문제 1. 평행사변형과 사다리꼴의 넓이를 구하는 메서드를 구현해봅시다. \n",
    "\n",
    "# 직사각형: 가로 x 세로\n",
    "# 평행사변형: 밑변 x 높이\n",
    "# (등변) 사다리꼴: (밑변 + 윗변) x 높이 x 1/2\n",
    "\n",
    "# 평행사변형 메서드\n",
    "def par(self):\n",
    "    # [[YOUR CODE]]\n",
    "    bottomside, height = map(int, input('밑변, 높이를 입력하세요. 예시 : 밑변,높이\\n >>>').split(','))\n",
    "    area = bottomside * height\n",
    "    result = '평행사변형의 넓이는 : ' + str(area)\n",
    "\n",
    "    return result\n",
    "\n",
    "# 사다리꼴 메서드\n",
    "def trape(self):\n",
    "    # [[YOUR CODE]]\n",
    "    bottomside, topside, height = map(int, input('밑변, 윗변, 높이를 입력하세요. 예시 : 밑변,윗변,높이\\n >>>').split(','))\n",
    "    area = (bottomside + topside) * height * 1/2\n",
    "    result = '사다리꼴의 넓이는 : ' + str(area)\n",
    "    return result"
   ]
  },
  {
   "cell_type": "code",
   "execution_count": 21,
   "id": "383dd90e",
   "metadata": {},
   "outputs": [
    {
     "name": "stdout",
     "output_type": "stream",
     "text": [
      "직사각형 함수는 rect()입니다.\n"
     ]
    },
    {
     "data": {
      "text/plain": [
       "'직사각형의 넓이는 : 6'"
      ]
     },
     "execution_count": 21,
     "metadata": {},
     "output_type": "execute_result"
    }
   ],
   "source": [
    "# 사각형 넓이를 구하는 클래스 완성!\n",
    "class Square:\n",
    "    def __init__(self):\n",
    "        self.square = int(input('넓이를 구하고 싶은 사각형의 숫자를 써주세요.\\n 1.직사각형 2.평행사변형 3.사다리꼴 \\n >>>'))\n",
    "\n",
    "        if self.square == 1:\n",
    "            print('직사각형 함수는 rect()입니다.')\n",
    "\n",
    "        elif self.square == 2:\n",
    "            print('평행사변형 함수는 par()입니다.')\n",
    "        \n",
    "        elif self.square == 3:\n",
    "            print('사다리꼴 함수는 trape()입니다.')\n",
    "        \n",
    "        else:\n",
    "            print('1, 2, 3 중에서 다시 입력해주세요')\n",
    "\n",
    "    def rect(self):\n",
    "        width, vertical = map(int, input('가로, 세로를 입력하세요. 예시 : 가로,세로\\n >>>').split(','))\n",
    "        area = width * vertical\n",
    "        result = '직사각형의 넓이는 : ' + str(area)\n",
    "        return result\n",
    "\n",
    "    def par(self):\n",
    "        # [[YOUR CODE]]\n",
    "        bottomside, height = map(int, input('밑변, 높이를 입력하세요. 예시 : 밑변,높이\\n >>>').split(','))\n",
    "        area = bottomside * height\n",
    "        result = '평행사변형의 넓이는 : ' + str(area)\n",
    "        return result\n",
    "\n",
    "    def trape(self):\n",
    "        # [[YOUR CODE]]\n",
    "        bottomside, topside, height = map(int, input('밑변, 윗변, 높이를 입력하세요. 예시 : 밑변,윗변,높이\\n >>>').split(','))\n",
    "        area = (bottomside + topside) * height * 1/2\n",
    "        result = '사다리꼴의 넓이는 : ' + str(area)\n",
    "        return result\n",
    "\n",
    "a = Square()  # 객체 생성 & 2, 3을 각각 입력해 봅시다.\n",
    "a.rect()"
   ]
  },
  {
   "cell_type": "code",
   "execution_count": 23,
   "id": "401135fb",
   "metadata": {},
   "outputs": [
    {
     "data": {
      "text/plain": [
       "'평행사변형의 넓이는 : 6'"
      ]
     },
     "execution_count": 23,
     "metadata": {},
     "output_type": "execute_result"
    }
   ],
   "source": [
    "# 평형사변형의 넓이\n",
    "a.par()  # 3,2를 입력했을 때 넓이가 6이 나와야 합니다."
   ]
  },
  {
   "cell_type": "code",
   "execution_count": 24,
   "id": "df03ce7b",
   "metadata": {},
   "outputs": [
    {
     "data": {
      "text/plain": [
       "'사다리꼴의 넓이는 : 2.5'"
      ]
     },
     "execution_count": 24,
     "metadata": {},
     "output_type": "execute_result"
    }
   ],
   "source": [
    "# 사다리꼴의 넓이\n",
    "a.trape()  # 3,2,1 을 입력했을 때 넓이가 2.5이 나와야 합니다."
   ]
  }
 ],
 "metadata": {
  "kernelspec": {
   "display_name": "Python 3 (ipykernel)",
   "language": "python",
   "name": "python3"
  },
  "language_info": {
   "codemirror_mode": {
    "name": "ipython",
    "version": 3
   },
   "file_extension": ".py",
   "mimetype": "text/x-python",
   "name": "python",
   "nbconvert_exporter": "python",
   "pygments_lexer": "ipython3",
   "version": "3.11.5"
  }
 },
 "nbformat": 4,
 "nbformat_minor": 5
}
