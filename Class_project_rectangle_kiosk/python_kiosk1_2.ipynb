{
 "cells": [
  {
   "cell_type": "code",
   "execution_count": 8,
   "id": "909db5b6-87bd-4bc1-9739-74df043da465",
   "metadata": {},
   "outputs": [
    {
     "name": "stdout",
     "output_type": "stream",
     "text": [
      "⟝------------------------------⟞\n",
      "|                               |\n",
      "|                               |\n",
      "|                               |\n",
      "|                               |\n",
      "상품명 : HOT 아메리카노\n",
      "총 주문 금액 : 1500원\n",
      "|                               |\n",
      "|                               |\n",
      "|                               |\n",
      "|                               |\n",
      "⟝------------------------------⟞\n"
     ]
    }
   ],
   "source": [
    "# 주문 번호 코드로 출력   \n",
    "print('⟝' + '-' * 30 + '⟞')\n",
    "print('|' + ' ' * 31 + '|')\n",
    "print('|' + ' ' * 31 + '|')\n",
    "print('|' + ' ' * 31 + '|')\n",
    "print('|' + ' ' * 31 + '|')\n",
    "print('상품명 : HOT 아메리카노') \n",
    "print('총 주문 금액 : 1500원')\n",
    "print('|' + ' ' * 31 + '|')\n",
    "print('|' + ' ' * 31 + '|')\n",
    "print('|' + ' ' * 31 + '|')\n",
    "print('|' + ' ' * 31 + '|')\n",
    "print('⟝' + '-' * 30 + '⟞')"
   ]
  },
  {
   "cell_type": "code",
   "execution_count": 9,
   "id": "3fd0a285-a091-4e45-80ee-414318c2d94b",
   "metadata": {},
   "outputs": [],
   "source": [
    "# 커피 메뉴와 가격\n",
    "coffee = ['americano', 'latte', 'mocha'] \n",
    "c_price = [2000, 3000, 3000]\n",
    "\n",
    "# 논커피 메뉴와 가격\n",
    "non_coffee = ['yuza_tea', 'green_tea', 'choco_latte']\n",
    "n_price = [2500, 2500, 3000]"
   ]
  },
  {
   "cell_type": "code",
   "execution_count": 10,
   "id": "eaa4397d",
   "metadata": {},
   "outputs": [],
   "source": [
    "# 전체 메뉴와 가격 \n",
    "menu = ['americano', 'latte', 'mocha', 'yuza_tea', 'green_tea', 'choco_latte']\n",
    "price = [2000, 3000, 3000, 2500, 2500, 3000]"
   ]
  },
  {
   "cell_type": "code",
   "execution_count": 11,
   "id": "279d17ca",
   "metadata": {},
   "outputs": [
    {
     "name": "stdout",
     "output_type": "stream",
     "text": [
      "['yuza_tea', 'green_tea', 'choco_latte'] [2500, 2500, 3000]\n"
     ]
    }
   ],
   "source": [
    "# 논커피 메뉴와 가격을 출력해보세요.\n",
    "# [[YOUR CODE]]\n",
    "print(menu[3:], price[3:])"
   ]
  },
  {
   "cell_type": "code",
   "execution_count": 12,
   "id": "77db1f7c",
   "metadata": {},
   "outputs": [],
   "source": [
    "# 문제 2-1. Kiosk 클래스를 생성합니다. \n",
    "\n",
    "class Kiosk:\n",
    "    def __init__(self):\n",
    "        self.menu = menu # [[YOUR CODE]]\n",
    "        self.price = price # [[YOUR CODE]]"
   ]
  },
  {
   "cell_type": "code",
   "execution_count": 13,
   "id": "0088e966",
   "metadata": {},
   "outputs": [
    {
     "data": {
      "text/plain": [
       "['americano', 'latte', 'mocha', 'yuza_tea', 'green_tea', 'choco_latte']"
      ]
     },
     "execution_count": 13,
     "metadata": {},
     "output_type": "execute_result"
    }
   ],
   "source": [
    "a = Kiosk()  # 객체를 생성합니다.\n",
    "a.menu  # 객체 속성을 출력합니다."
   ]
  },
  {
   "cell_type": "code",
   "execution_count": 14,
   "id": "2c5c6071",
   "metadata": {},
   "outputs": [
    {
     "data": {
      "text/plain": [
       "[2000, 3000, 3000, 2500, 2500, 3000]"
      ]
     },
     "execution_count": 14,
     "metadata": {},
     "output_type": "execute_result"
    }
   ],
   "source": [
    "# 가격을 출력해보세요.\n",
    "# [[YOUR CODE]]\n",
    "a.price"
   ]
  },
  {
   "cell_type": "code",
   "execution_count": 29,
   "id": "bf8bf18f",
   "metadata": {},
   "outputs": [],
   "source": [
    "class Kiosk: \n",
    "    # 문제 2-1의 답을 입력하세요.     \n",
    "    def __init__(self):\n",
    "        self.menu = ['americano', 'latte', 'mocha', 'yuza_tea', 'green_tea', 'choco_latte'] # [[YOUR CODE]]\n",
    "        self.price = [2000, 3000, 3000, 2500, 2500, 3000] # [[YOUR CODE]]\n",
    "\n",
    "# 메뉴 출력 메서드\n",
    "    def menu_print(self):\n",
    "        for i in range(len(self.menu)):\n",
    "            print(i+1, self.menu[i], ' : ', self.price[i], '원')"
   ]
  },
  {
   "cell_type": "code",
   "execution_count": 16,
   "id": "86005230",
   "metadata": {},
   "outputs": [
    {
     "name": "stdout",
     "output_type": "stream",
     "text": [
      "1 americano  :  2000 원\n",
      "2 latte  :  3000 원\n",
      "3 mocha  :  3000 원\n",
      "4 yuza_tea  :  2500 원\n",
      "5 green_tea  :  2500 원\n",
      "6 choco_latte  :  3000 원\n"
     ]
    }
   ],
   "source": [
    "a = Kiosk()  # 객체 생성 \n",
    "a.menu_print()  # 메뉴 출력"
   ]
  },
  {
   "cell_type": "code",
   "execution_count": 17,
   "id": "2245b6b4",
   "metadata": {},
   "outputs": [],
   "source": [
    "# 문제 2-2. 주문 메서드  \n",
    "# 음료의 이름과 가격을 출력하세요.  \n",
    "\n",
    "def menu_select(self):\n",
    "    n = int(input(\"음료의 번호를 입력하세요 : \"))  # 음료 번호 입력\n",
    "    self.price_sum = self.price[n-1]  # 선택 음료의 가격\n",
    "    # 문제 2-2. 음료의 이름과 가격을 출력하세요.\n",
    "    print(self.menu[n-1], ' : ', self.price_sum, '원')  # 메뉴 # [[YOUR CODE]]"
   ]
  },
  {
   "cell_type": "code",
   "execution_count": 18,
   "id": "dcc4c5ee",
   "metadata": {},
   "outputs": [],
   "source": [
    "# 주문 메서드   \n",
    "def menu_select(self):\n",
    "    n = 0\n",
    "    while n < 1 or len(menu) < n:\n",
    "        n = int(input(\"음료 번호를 입력하세요 : \"))  # 음료 번호 입력\n",
    "    \n",
    "        # 메뉴판에 있는 음료 번호일 때\n",
    "        if 1 <= n & n <= len(menu):\n",
    "            self.price_sum = self.price[n-1]  # 선택 음료의 가격\n",
    "            # 문제 2-2의 답을 입력하세요. \n",
    "            print(self.menu[n-1], ' : ', self.price_sum, '원')  # 메뉴 # [[YOUR CODE]]\n",
    "    \n",
    "        # 메뉴판에 없는 번호일 때\n",
    "        else:\n",
    "            print(\"없는 메뉴입니다. 다시 주문해 주세요.\")"
   ]
  },
  {
   "cell_type": "code",
   "execution_count": 30,
   "id": "a8e5f5e9",
   "metadata": {},
   "outputs": [],
   "source": [
    "class Kiosk:    \n",
    "    def __init__(self):\n",
    "        # 문제 2-1의 답을 입력하세요. \n",
    "        self.menu = ['americano', 'latte', 'mocha', 'yuza_tea', 'green_tea', 'choco_latte'] # [[YOUR CODE]]\n",
    "        self.price = [2000, 3000, 3000, 2500, 2500, 3000] # [[YOUR CODE]]\n",
    "\n",
    "    # 메뉴 출력 메서드\n",
    "    def menu_print(self):\n",
    "        for i in range(len(self.menu)):\n",
    "            print(i+1, self.menu[i], ' : ', self.price[i], '원')\n",
    "\n",
    "    # 주문 메서드\n",
    "    def menu_select(self):\n",
    "        print()  # 줄 바꿈\n",
    "        n = 0\n",
    "        while n < 1 or len(menu) < n:\n",
    "            n = int(input(\"음료 번호를 입력하세요 : \"))  # 음료 번호 입력\n",
    "\n",
    "            # 메뉴판에 있는 음료 번호일때\n",
    "            if 1 <= n & n <= len(menu):\n",
    "                self.price_sum = self.price[n-1]  # 선택 음료의 가격\n",
    "                # 문제 2-2의 답을 입력하세요. \n",
    "                print(self.menu[n-1], ' : ', self.price_sum, '원')  # 메뉴 # [[YOUR CODE]]\n",
    "        \n",
    "             # 메뉴판에 없는 번호일 때\n",
    "            else:  \n",
    "                print(\"없는 메뉴입니다. 다시 주문해 주세요.\")"
   ]
  },
  {
   "cell_type": "code",
   "execution_count": 20,
   "id": "e9e7bdcc",
   "metadata": {},
   "outputs": [
    {
     "name": "stdout",
     "output_type": "stream",
     "text": [
      "1 americano  :  2000 원\n",
      "2 latte  :  3000 원\n",
      "3 mocha  :  3000 원\n",
      "4 yuza_tea  :  2500 원\n",
      "5 green_tea  :  2500 원\n",
      "6 choco_latte  :  3000 원\n",
      "\n",
      "americano  :  2000 원\n"
     ]
    }
   ],
   "source": [
    "# 아메리카노 주문해보기  \n",
    "a = Kiosk()  # 객체 생성 \n",
    "a.menu_print()  # 메뉴 출력\n",
    "a.menu_select()  # 아메리카노 주문"
   ]
  },
  {
   "cell_type": "code",
   "execution_count": 31,
   "id": "7103bf20",
   "metadata": {},
   "outputs": [],
   "source": [
    "# 문제 2-3. 주문 메서드      \n",
    "\n",
    "# 음료의 온도에 따라 temp 변수를 \"HOT\" 또는 \"ICE\"로 지정하세요.\n",
    "\n",
    "class Kiosk: \n",
    "    def __init__(self):\n",
    "        # 문제 2-1의 답을 입력하세요. \n",
    "        self.menu = ['americano', 'latte', 'mocha', 'yuza_tea', 'green_tea', 'choco_latte'] # [[YOUR CODE]]\n",
    "        self.price = [2000, 3000, 3000, 2500, 2500, 3000] # [[YOUR CODE]]\n",
    "\n",
    "    # 메뉴 출력 메서드\n",
    "    def menu_print(self):\n",
    "        for i in range(len(self.menu)):\n",
    "            print(i + 1, self.menu[i], ' : ', self.price[i], '원')\n",
    "\n",
    "    # 주문 메서드\n",
    "    def menu_select(self):\n",
    "        print()  # 줄 바꿈\n",
    "        n = 0\n",
    "        while n < 1 or len(menu) < n:\n",
    "            n = int(input(\"음료 번호를 입력하세요 : \"))  # 음료 번호 입력\n",
    "\n",
    "            # 메뉴판에 있는 음료 번호일때\n",
    "            if 1 <= n & n <= len(menu):\n",
    "                self.price_sum = self.price[n-1]  # 선택 음료의 가격\n",
    "        \n",
    "            # 메뉴판에 없는 번호일 때\n",
    "            else:  \n",
    "                print(\"없는 메뉴입니다. 다시 주문해 주세요.\")\n",
    "\n",
    "        # 음료 온도 물어보기\n",
    "        t = 0  # 기본값을 넣어주고\n",
    "        while t != 1 and t != 2:  # 1이나 2를 입력할 때까지 물어보기\n",
    "            t= int(input(\"HOT 음료는 1을, ICE 음료는 2를 입력하세요 : \"))\n",
    "            # 문제 2-3. 음료의 온도에 따라 temp 변수를 \"HOT\" 또는 \"ICE\"로 지정하세요.   \n",
    "            # 힌트: if문을 활용해보세요.        \n",
    "            if t == 1: # [[YOUR CODE]]\n",
    "                self.temp = \"HOT\"\n",
    "            elif t == 2:\n",
    "                self.temp = \"ICE\"\n",
    "            else:    \n",
    "                print(\"1과 2 중 하나를 입력하세요.\\n\")\n",
    "        # 문제 2-2의 답을 입력하세요. \n",
    "        print('주문 음료', self.temp, self.menu[n-1], ' : ', self.price_sum, '원')  # 온도 속성을 추가한 주문 결과 출력 # [[YOUR CODE]]"
   ]
  },
  {
   "cell_type": "code",
   "execution_count": 22,
   "id": "92898c63",
   "metadata": {},
   "outputs": [
    {
     "name": "stdout",
     "output_type": "stream",
     "text": [
      "1 americano  :  2000 원\n",
      "2 latte  :  3000 원\n",
      "3 mocha  :  3000 원\n",
      "4 yuza_tea  :  2500 원\n",
      "5 green_tea  :  2500 원\n",
      "6 choco_latte  :  3000 원\n",
      "\n",
      "주문 음료 HOT americano  :  2000 원\n"
     ]
    }
   ],
   "source": [
    "# 아이스 초코라떼 주문해보기  \n",
    "a = Kiosk()  # 객체 생성\n",
    "a.menu_print()  # 메뉴 출력\n",
    "a.menu_select()"
   ]
  },
  {
   "cell_type": "code",
   "execution_count": 23,
   "id": "85b26426",
   "metadata": {},
   "outputs": [],
   "source": [
    "# 문제 2-4. 추가 주문       \n",
    "# 추가 음료의 온도를 입력받고, 가격 리스트와 주문 리스트, 합계 금액을 업데이트합니다. \n",
    "\n",
    "def menu_select(self):\n",
    "    self.order_menu = []  # 주문 리스트\n",
    "    self.order_price = []  # 가격 리스트\n",
    "\n",
    "    n = 0\n",
    "    while n < 1 or len(menu) < n:\n",
    "        n = int(input(\"음료를 번호를 입력하세요 : \"))  # 음료 번호 입력\n",
    "\n",
    "        # 메뉴판에 있는 음료 번호일 때\n",
    "        if 1 <= n & n <= len(menu):\n",
    "            self.order_price.append(self.price[n-1])  # 가격 리스트에 추가합니다.\n",
    "            self.price_sum = self.price[n-1]  # 합계 금액\n",
    "        \n",
    "            # 메뉴판에 없는 번호일 때\n",
    "        else:  \n",
    "            print(\"없는 메뉴입니다. 다시 주문해 주세요.\")\n",
    "\n",
    "\n",
    "    # 음료 온도 물어보기\n",
    "    t = 0  # 기본값을 넣어주고\n",
    "    while t != 1 and t != 2:  # 1이나 2를 입력할 때까지 물어보기\n",
    "        t= int(input(\"HOT 음료는 1을, ICE 음료는 2를 입력하세요 : \"))\n",
    "        # 문제 2-3의 답을 입력하세요.   \n",
    "        if t == 1: # [[YOUR CODE]]\n",
    "            self.temp = \"HOT\"\n",
    "        elif t == 2:\n",
    "            self.temp = \"ICE\"\n",
    "        else:    \n",
    "            print(\"1과 2 중 하나를 입력하세요.\\n\")\n",
    "\n",
    "    self.order_menu.append(self.temp + ' ' + self.menu[n-1])  # 주문 리스트에 추가합니다.\n",
    "    # 문제 2-2의 답을 입력하세요. \n",
    "    print(self.temp, self.menu[n-1], ' : ', self.price_sum, '원')  # 온도 속성을 추가한 주문 결과를 출력합니다. # [[YOUR CODE]]\n",
    "\n",
    "    # 추가 주문 또는 지불\n",
    "    while n != 0:  # 지불을 선택하기 전까지 반복합니다.\n",
    "        print()  # 줄 바꾸면서 \n",
    "        n = int(input(\"추가 주문은 음료 번호를, 지불은 0을 누르세요 : \"))  # 추가 주문 또는 지불\n",
    "        if n > 0 and n < len(self.menu) + 1: \n",
    "            # 추가 음료 온도 \n",
    "            # 문제 2-4. 추가 음료의 온도를 입력받고, 가격 리스트, 주문 리스트, 합계 금액을 업데이트해보세요.\n",
    "            # [[YOUR CODE]]\n",
    "            # 음료 온도 물어보기\n",
    "            t = 0  # 기본값을 넣어주고\n",
    "            while t != 1 and t != 2:  # 1이나 2를 입력할 때까지 물어보기\n",
    "                t= int(input(\"HOT 음료는 1을, ICE 음료는 2를 입력하세요 : \"))\n",
    "                # 문제 2-3의 답을 입력하세요.   \n",
    "                if t == 1: # [[YOUR CODE]]\n",
    "                    self.temp = \"HOT\"\n",
    "                elif t == 2:\n",
    "                    self.temp = \"ICE\"\n",
    "                else:    \n",
    "                    print(\"1과 2 중 하나를 입력하세요.\\n\")\n",
    "\n",
    "            self.order_price.append(self.price[n-1])  # 가격 리스트에 추가합니다.\n",
    "            self.order_menu.append(self.temp + ' ' + self.menu[n-1])  # 주문 리스트에 추가합니다.\n",
    "            self.price_sum += self.price[n-1]  # 합계 금액을 업데이트합니다.\n",
    "\n",
    "            print('추가 주문 음료', self.temp + ' ' + self.menu[n-1], ':', self.price[n-1], '원\\n', '합계 : ', self.price_sum, '원') # [[YOUR CODE]]\n",
    "        else :\n",
    "            if n == 0 :  # 지불을 입력하면\n",
    "                print(\"주문이 완료되었습니다.\")\n",
    "                print(self.order_menu, self.order_price)  # 확인을 위한 리스트를 출력합니다.\n",
    "            else :  # 없는 번호를 입력할 때\n",
    "                print(\"없는 메뉴입니다. 다시 주문해 주세요.\")"
   ]
  },
  {
   "cell_type": "code",
   "execution_count": 24,
   "id": "dfff4c0e",
   "metadata": {},
   "outputs": [],
   "source": [
    "Kiosk.menu_select = menu_select"
   ]
  },
  {
   "cell_type": "code",
   "execution_count": 25,
   "id": "1ca3aa7c",
   "metadata": {},
   "outputs": [
    {
     "name": "stdout",
     "output_type": "stream",
     "text": [
      "1 americano  :  2000 원\n",
      "2 latte  :  3000 원\n",
      "3 mocha  :  3000 원\n",
      "4 yuza_tea  :  2500 원\n",
      "5 green_tea  :  2500 원\n",
      "6 choco_latte  :  3000 원\n",
      "HOT americano  :  2000 원\n",
      "\n",
      "주문이 완료되었습니다.\n",
      "['HOT americano'] [2000]\n"
     ]
    }
   ],
   "source": [
    "# 5가지 이상의 음료를 주문하고 리스트 확인하기 \n",
    "a = Kiosk()  # 객체 생성\n",
    "a.menu_print()  # 메뉴 출력\n",
    "a.menu_select()  # 주문"
   ]
  },
  {
   "cell_type": "code",
   "execution_count": 37,
   "id": "34e03a04",
   "metadata": {},
   "outputs": [],
   "source": [
    "# 문제 3-1. 지불 메서드\n",
    "# 위의 설명을 참고하여 pay 함수를 구현합니다. \n",
    "\n",
    "# [[YOUR CODE]]\n",
    "def pay(self):\n",
    "    print(f\"지불하실 금액은 {self.price_sum}원입니다.\")\n",
    "\n",
    "    self.payment = 0  # 기본값을 넣어주고\n",
    "    while self.payment != 1 and self.payment != 2:  # 1이나 2를 입력할 때까지 물어보기\n",
    "        self.payment = int(input(\"결재를 위해 현금은 1을, 카드는 2를 입력하세요 : \"))   \n",
    "            \n",
    "        if self.payment == 1:\n",
    "            self.temp = \"현금\"\n",
    "            print(self.temp)\n",
    "        elif self.payment == 2:\n",
    "            self.temp = \"카드\"\n",
    "            print(self.temp)\n",
    "        else:    \n",
    "            print(\"1과 2 중 하나를 입력하세요.\\n\")\n",
    "\n",
    "    if 'cash' or 1: # 현금\n",
    "        print('직원을 호출하겠습니다.')\n",
    "    elif 'card' or 2:  # 카드\n",
    "        print('IC칩 방향에 맞게 카드를 꽂아주세요.')\n",
    "    else:  # 다른 번호 선택 시\n",
    "        print('다시 결제를 시도해 주세요.')"
   ]
  },
  {
   "cell_type": "code",
   "execution_count": 27,
   "id": "c4e9b257",
   "metadata": {},
   "outputs": [],
   "source": [
    "Kiosk.pay = pay"
   ]
  },
  {
   "cell_type": "code",
   "execution_count": 28,
   "id": "b51b2ef2",
   "metadata": {},
   "outputs": [
    {
     "name": "stdout",
     "output_type": "stream",
     "text": [
      "1 americano  :  2000 원\n",
      "2 latte  :  3000 원\n",
      "3 mocha  :  3000 원\n",
      "4 yuza_tea  :  2500 원\n",
      "5 green_tea  :  2500 원\n",
      "6 choco_latte  :  3000 원\n",
      "HOT americano  :  2000 원\n",
      "\n",
      "주문이 완료되었습니다.\n",
      "['HOT americano'] [2000]\n",
      "지불하실 금액은 2000 원입니다.\n",
      "현금\n",
      "직원을 호출하겠습니다.\n"
     ]
    }
   ],
   "source": [
    "a = Kiosk()  # 객체 생성 \n",
    "a.menu_print()  # 메뉴 출력\n",
    "a.menu_select()  # 주문\n",
    "a.pay()  # 지불"
   ]
  },
  {
   "cell_type": "code",
   "execution_count": 33,
   "id": "b87cbf40",
   "metadata": {},
   "outputs": [
    {
     "name": "stdout",
     "output_type": "stream",
     "text": [
      "⟝------------------------------⟞\n",
      "|                               |\n",
      "|                               |\n",
      "|                               |\n",
      "|                               |\n",
      "|                               |\n",
      "HOT americano  :  2000\n",
      "ICE latte  :  3000\n",
      "ICE mocha  :  3000\n",
      "ICE choco_latte  :  3000\n",
      "합계 금액 : 11000\n",
      "|                               |\n",
      "|                               |\n",
      "|                               |\n",
      "|                               |\n",
      "|                               |\n",
      "⟝------------------------------⟞\n"
     ]
    }
   ],
   "source": [
    "order = ['HOT americano', 'ICE latte', 'ICE mocha', 'ICE choco_latte'] \n",
    "price = [2000, 3000, 3000, 3000] \n",
    "\n",
    "# 외곽\n",
    "print('⟝' + '-' * 30 + '⟞')\n",
    "for i in range(5):\n",
    "    print('|' + ' ' * 31 + '|')\n",
    "\n",
    "# 주문 상품명 : 해당 금액\n",
    "for i in range(len(order)):\n",
    "    print(order[i], ' : ', price[i])\n",
    "\n",
    "print('합계 금액 :', sum(price))\n",
    "\n",
    "# 외곽\n",
    "for i in range(5):\n",
    "    print('|' + ' ' * 31+ '|')\n",
    "print('⟝' + '-' * 30 + '⟞')"
   ]
  },
  {
   "cell_type": "code",
   "execution_count": 36,
   "id": "a7bfedaa",
   "metadata": {},
   "outputs": [],
   "source": [
    "# 문제 3-2. 주문표 \n",
    "# 위의 주문표 코드를 참고하여 table() 메서드를 작성해 봅니다. \n",
    "\n",
    "# [[YOUR CODE]]\n",
    "def table(self):\n",
    "    # 외곽\n",
    "    print('⟝' + '-' * 30 + '⟞')\n",
    "    for i in range(5):\n",
    "        print('|' + ' ' * 31 + '|')\n",
    "\n",
    "    # 주문 상품명 : 해당 금액\n",
    "    for i in range(len(self.order_menu)):\n",
    "        print(self.order_menu[i], ' : ', self.order_price[i])\n",
    "\n",
    "    print('합계 금액 :', sum(self.price_sum))\n",
    "\n",
    "    # 외곽\n",
    "    for i in range(5):\n",
    "        print('|' + ' ' * 31+ '|')\n",
    "    print('⟝' + '-' * 30 + '⟞')"
   ]
  },
  {
   "cell_type": "code",
   "execution_count": 38,
   "id": "3529d770",
   "metadata": {},
   "outputs": [],
   "source": [
    "# 문제 3-3. 클래스 업데이트  \n",
    "# 앞에서 구현했던 메서드들을 Kiosk 클래스에 추가합니다. 직접 코드를 작성해 보세요! \n",
    "\n",
    "class Kiosk:\n",
    "    def __init__(self):\n",
    "        # [[YOUR CODE]]        \n",
    "        self.menu = ['americano', 'latte', 'mocha', 'yuza_tea', 'green_tea', 'choco_latte'] # [[YOUR CODE]]\n",
    "        self.price = [2000, 3000, 3000, 2500, 2500, 3000] # [[YOUR CODE]]\n",
    "\n",
    "    # 메뉴 출력 메서드\n",
    "    def menu_print(self):\n",
    "        # [[YOUR CODE]]\n",
    "        for i in range(len(self.menu)):\n",
    "            print(i + 1, self.menu[i], ' : ', self.price[i], '원')\n",
    "\n",
    "    # 주문 메서드\n",
    "    def menu_select(self):\n",
    "        # [[YOUR CODE]]\n",
    "        self.order_menu = []  # 주문 리스트\n",
    "        self.order_price = []  # 가격 리스트\n",
    "\n",
    "        n = 0\n",
    "        while n < 1 or len(menu) < 1:\n",
    "            n = int(input(\"음료 번호를 입력하세요 : \"))\n",
    "\n",
    "            # 메뉴판에 있는 음료 번호일때\n",
    "            if 1 <= n & n <= len(menu):\n",
    "                self.price_sum = self.price[n-1]  # 선택 음료의 가격\n",
    "        \n",
    "            # 메뉴판에 없는 번호일 때\n",
    "            else:  \n",
    "                print(\"없는 메뉴입니다. 다시 주문해 주세요.\")\n",
    "\n",
    "        # 음료 온도 물어보기(확인)\n",
    "        t = 0  # 기본값을 넣어주고\n",
    "        while t != 1 and t != 2:  # 1이나 2를 입력할 때까지 물어보기\n",
    "            t= int(input(\"HOT 음료는 1을, ICE 음료는 2를 입력하세요 : \"))\n",
    "\n",
    "            if t == 1:\n",
    "                self.temp = \"HOT\"\n",
    "\n",
    "            elif t == 2:\n",
    "                self.temp = \"ICE\"\n",
    "            else:    \n",
    "                print(\"1과 2 중 하나를 입력하세요.\\n\")\n",
    "\n",
    "        self.order_menu.append(self.temp + ' ' + self.menu[n-1])  # 주문 리스트에 추가합니다.\n",
    "\n",
    "        print('주문 음료', self.temp, self.menu[n-1], ' : ', self.price_sum, '원')  # 온도 속성을 추가한 주문 결과 출력 # [[YOUR CODE]]\n",
    "\n",
    "\n",
    "        # 추가 주문 또는 지불\n",
    "        while n != 0:  # 지불을 선택하기 전까지 반복합니다.\n",
    "            print()  # 줄 바꾸면서 \n",
    "            n = int(input(\"추가 주문은 음료 번호를, 지불은 0을 누르세요 : \"))  # 추가 주문 또는 지불\n",
    "            if n > 0 and n < len(self.menu) + 1: \n",
    "                # 추가 음료 온도 \n",
    "                # 문제 2-4. 추가 음료의 온도를 입력받고, 가격 리스트, 주문 리스트, 합계 금액을 업데이트해보세요.\n",
    "                # [[YOUR CODE]]\n",
    "                # 음료 온도 물어보기\n",
    "                t = 0  # 기본값을 넣어주고\n",
    "                while t != 1 and t != 2:  # 1이나 2를 입력할 때까지 물어보기\n",
    "                    t= int(input(\"HOT 음료는 1을, ICE 음료는 2를 입력하세요 : \"))\n",
    "                    # 문제 2-3의 답을 입력하세요.   \n",
    "                    if t == 1: # [[YOUR CODE]]\n",
    "                        self.temp = \"HOT\"\n",
    "                    elif t == 2:\n",
    "                        self.temp = \"ICE\"\n",
    "                    else:    \n",
    "                        print(\"1과 2 중 하나를 입력하세요.\\n\")\n",
    "\n",
    "                self.order_price.append(self.price[n-1])  # 가격 리스트에 추가합니다.\n",
    "                self.order_menu.append(self.temp + ' ' + self.menu[n-1])  # 주문 리스트에 추가합니다.\n",
    "                self.price_sum += self.price[n-1]  # 합계 금액을 업데이트합니다.\n",
    "\n",
    "                print('추가 주문 음료', self.temp + ' ' + self.menu[n-1], ':', self.price[n-1], '원\\n', '합계 : ', self.price_sum, '원') # [[YOUR CODE]]\n",
    "            else :\n",
    "                if n == 0 :  # 지불을 입력하면\n",
    "                    print(\"주문이 완료되었습니다.\")\n",
    "                    print(self.order_menu, self.order_price)  # 확인을 위한 리스트를 출력합니다.\n",
    "                else :  # 없는 번호를 입력할 때\n",
    "                    print(\"없는 메뉴입니다. 다시 주문해 주세요.\")\n",
    "\n",
    "    # 지불\n",
    "    def pay(self):\n",
    "        # [[YOUR CODE]]\n",
    "        print(f\"지불하실 금액은 {self.price_sum}원입니다.\")\n",
    "\n",
    "        self.payment = 0  # 기본값을 넣어주고\n",
    "        while self.payment != 1 and self.payment != 2:  # 1이나 2를 입력할 때까지 물어보기\n",
    "            self.payment = int(input(\"결재를 위해 현금은 1을, 카드는 2를 입력하세요 : \"))   \n",
    "                    \n",
    "            if self.payment == 1: # 현금\n",
    "                self.temp = \"현금\"\n",
    "                print(self.temp)\n",
    "                print('직원을 호출하겠습니다.')\n",
    "            elif self.payment == 2: # 카드\n",
    "                self.temp = \"카드\"\n",
    "                print(self.temp)\n",
    "                print('IC칩 방향에 맞게 카드를 꽂아주세요.')\n",
    "            else: # 다른 번호 선택 시\n",
    "                print('다시 결제를 시도해 주세요.')\n",
    "\n",
    "    # 주문서 출력 \n",
    "    def table(self):\n",
    "        # [[YOUR CODE]] \n",
    "        # 외곽\n",
    "        print('⟝' + '*' * 35 + '⟞')\n",
    "        for i in range(5):\n",
    "            print('||' + ' ' * 34 + '||')\n",
    "\n",
    "        # 주문 상품명 : 해당 금액\n",
    "        for i in range(len(self.order_menu)):                   # Error 발생 : 확인 필요\n",
    "            print(self.order_menu[i], ' : ', self.order_price[i], '원')\n",
    "\n",
    "        print('합계 금액 :', sum(self.price_price), '원')\n",
    "\n",
    "        # 외곽\n",
    "        for i in range(5):\n",
    "            print('||' + ' ' * 34+ '||')\n",
    "        print('⟝' + '*' * 35 + '⟞')\n"
   ]
  },
  {
   "cell_type": "code",
   "execution_count": 39,
   "id": "94920aa6",
   "metadata": {},
   "outputs": [
    {
     "name": "stdout",
     "output_type": "stream",
     "text": [
      "1 americano  :  2000 원\n",
      "2 latte  :  3000 원\n",
      "3 mocha  :  3000 원\n",
      "4 yuza_tea  :  2500 원\n",
      "5 green_tea  :  2500 원\n",
      "6 choco_latte  :  3000 원\n",
      "주문 음료 HOT americano  :  2000 원\n",
      "\n",
      "주문이 완료되었습니다.\n",
      "['HOT americano'] []\n",
      "지불하실 금액은 2000원입니다.\n",
      "현금\n",
      "직원을 호출하겠습니다.\n",
      "⟝***********************************⟞\n",
      "||                                  ||\n",
      "||                                  ||\n",
      "||                                  ||\n",
      "||                                  ||\n",
      "||                                  ||\n"
     ]
    },
    {
     "ename": "IndexError",
     "evalue": "list index out of range",
     "output_type": "error",
     "traceback": [
      "\u001b[1;31m---------------------------------------------------------------------------\u001b[0m",
      "\u001b[1;31mIndexError\u001b[0m                                Traceback (most recent call last)",
      "Cell \u001b[1;32mIn[39], line 5\u001b[0m\n\u001b[0;32m      3\u001b[0m a\u001b[38;5;241m.\u001b[39mmenu_select()  \u001b[38;5;66;03m# 주문\u001b[39;00m\n\u001b[0;32m      4\u001b[0m a\u001b[38;5;241m.\u001b[39mpay()  \u001b[38;5;66;03m# 지불\u001b[39;00m\n\u001b[1;32m----> 5\u001b[0m \u001b[43ma\u001b[49m\u001b[38;5;241;43m.\u001b[39;49m\u001b[43mtable\u001b[49m\u001b[43m(\u001b[49m\u001b[43m)\u001b[49m  \u001b[38;5;66;03m# 주문표 출력\u001b[39;00m\n",
      "Cell \u001b[1;32mIn[38], line 114\u001b[0m, in \u001b[0;36mKiosk.table\u001b[1;34m(self)\u001b[0m\n\u001b[0;32m    112\u001b[0m \u001b[38;5;66;03m# 주문 상품명 : 해당 금액\u001b[39;00m\n\u001b[0;32m    113\u001b[0m \u001b[38;5;28;01mfor\u001b[39;00m i \u001b[38;5;129;01min\u001b[39;00m \u001b[38;5;28mrange\u001b[39m(\u001b[38;5;28mlen\u001b[39m(\u001b[38;5;28mself\u001b[39m\u001b[38;5;241m.\u001b[39morder_menu)):\n\u001b[1;32m--> 114\u001b[0m     \u001b[38;5;28mprint\u001b[39m(\u001b[38;5;28mself\u001b[39m\u001b[38;5;241m.\u001b[39morder_menu[i], \u001b[38;5;124m'\u001b[39m\u001b[38;5;124m : \u001b[39m\u001b[38;5;124m'\u001b[39m, \u001b[38;5;28;43mself\u001b[39;49m\u001b[38;5;241;43m.\u001b[39;49m\u001b[43morder_price\u001b[49m\u001b[43m[\u001b[49m\u001b[43mi\u001b[49m\u001b[43m]\u001b[49m, \u001b[38;5;124m'\u001b[39m\u001b[38;5;124m원\u001b[39m\u001b[38;5;124m'\u001b[39m)\n\u001b[0;32m    116\u001b[0m \u001b[38;5;28mprint\u001b[39m(\u001b[38;5;124m'\u001b[39m\u001b[38;5;124m합계 금액 :\u001b[39m\u001b[38;5;124m'\u001b[39m, \u001b[38;5;28msum\u001b[39m(\u001b[38;5;28mself\u001b[39m\u001b[38;5;241m.\u001b[39mprice_price), \u001b[38;5;124m'\u001b[39m\u001b[38;5;124m원\u001b[39m\u001b[38;5;124m'\u001b[39m)\n\u001b[0;32m    118\u001b[0m \u001b[38;5;66;03m# 외곽\u001b[39;00m\n",
      "\u001b[1;31mIndexError\u001b[0m: list index out of range"
     ]
    }
   ],
   "source": [
    "a = Kiosk()  # 객체 생성 \n",
    "a.menu_print()  # 메뉴 출력\n",
    "a.menu_select()  # 주문\n",
    "a.pay()  # 지불\n",
    "a.table()  # 주문표 출력"
   ]
  }
 ],
 "metadata": {
  "kernelspec": {
   "display_name": "Python 3 (ipykernel)",
   "language": "python",
   "name": "python3"
  },
  "language_info": {
   "codemirror_mode": {
    "name": "ipython",
    "version": 3
   },
   "file_extension": ".py",
   "mimetype": "text/x-python",
   "name": "python",
   "nbconvert_exporter": "python",
   "pygments_lexer": "ipython3",
   "version": "3.11.5"
  }
 },
 "nbformat": 4,
 "nbformat_minor": 5
}
